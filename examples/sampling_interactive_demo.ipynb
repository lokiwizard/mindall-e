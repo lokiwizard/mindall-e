{
 "cells": [
  {
   "cell_type": "code",
   "id": "cdf36725-ec00-4027-95d6-374340c2264e",
   "metadata": {
    "ExecuteTime": {
     "end_time": "2025-01-10T00:55:23.262028Z",
     "start_time": "2025-01-10T00:55:05.894288Z"
    }
   },
   "source": [
    "import os\n",
    "import sys\n",
    "import math\n",
    "import argparse\n",
    "import clip\n",
    "import numpy as np\n",
    "%matplotlib inline\n",
    "import matplotlib.pyplot as plt\n",
    "from PIL import Image\n",
    "\n",
    "sys.path.append(os.path.dirname(os.getcwd()))\n",
    "\n",
    "from dalle.models import Dalle\n",
    "from dalle.utils.utils import set_seed, clip_score\n",
    "\n",
    "device = 'cuda:0'\n",
    "model = Dalle.from_pretrained(r\"D:\\pyproject\\mindall-e\\checkpoints\")\n",
    "model_clip, preprocess_clip = clip.load(\"ViT-B/32\", device=device)\n",
    "\n",
    "model_clip.to(device=device)\n",
    "model.to(device=device)\n",
    "\n",
    "def sampling(prompt, top_k, softmax_temperature, seed, num_candidates=4, num_samples_for_display=4):\n",
    "    # Setup\n",
    "    n_row = int(math.sqrt(num_samples_for_display))\n",
    "    n_col = int(math.sqrt(num_samples_for_display))\n",
    "    set_seed(seed)\n",
    "    \n",
    "    # Sampling\n",
    "    images = model.sampling(prompt=prompt,\n",
    "                            top_k=top_k,\n",
    "                            top_p=None,\n",
    "                            softmax_temperature=softmax_temperature,\n",
    "                            num_candidates=num_candidates,\n",
    "                            device=device).cpu().numpy()\n",
    "    images = np.transpose(images, (0, 2, 3, 1))\n",
    "\n",
    "    # CLIP Re-ranking\n",
    "    rank = clip_score(prompt=prompt, images=images, model_clip=model_clip, preprocess_clip=preprocess_clip, device=device)\n",
    "    images = images[rank]\n",
    "    \n",
    "    images = images[:num_samples_for_display]\n",
    "    fig = plt.figure(figsize=(8*n_row, 8*n_col))\n",
    "\n",
    "    for i in range(num_samples_for_display):\n",
    "        ax = fig.add_subplot(n_row, n_col, i+1)\n",
    "        ax.imshow(images[i])\n",
    "        ax.set_axis_off()\n",
    "\n",
    "    plt.tight_layout()\n",
    "    plt.show()"
   ],
   "outputs": [
    {
     "name": "stdout",
     "output_type": "stream",
     "text": [
      "D:\\pyproject\\mindall-e\\checkpoints\\tokenizer successfully restored..\n"
     ]
    },
    {
     "name": "stderr",
     "output_type": "stream",
     "text": [
      "D:\\pyproject\\mindall-e\\dalle\\models\\stage1\\vqgan.py:91: FutureWarning: You are using `torch.load` with `weights_only=False` (the current default value), which uses the default pickle module implicitly. It is possible to construct malicious pickle data which will execute arbitrary code during unpickling (See https://github.com/pytorch/pytorch/blob/main/SECURITY.md#untrusted-models for more details). In a future release, the default value for `weights_only` will be flipped to `True`. This limits the functions that could be executed during unpickling. Arbitrary objects will no longer be allowed to be loaded via this mode unless they are explicitly allowlisted by the user via `torch.serialization.add_safe_globals`. We recommend you start setting `weights_only=True` for any use case where you don't have full control of the loaded file. Please open an issue on GitHub for any issues related to this experimental feature.\n",
      "  ckpt = torch.load(path, map_location='cpu')['state_dict']\n"
     ]
    },
    {
     "name": "stdout",
     "output_type": "stream",
     "text": [
      "D:\\pyproject\\mindall-e\\checkpoints\\stage1_last.ckpt successfully restored..\n"
     ]
    },
    {
     "name": "stderr",
     "output_type": "stream",
     "text": [
      "D:\\pyproject\\mindall-e\\dalle\\models\\stage2\\transformer.py:146: FutureWarning: You are using `torch.load` with `weights_only=False` (the current default value), which uses the default pickle module implicitly. It is possible to construct malicious pickle data which will execute arbitrary code during unpickling (See https://github.com/pytorch/pytorch/blob/main/SECURITY.md#untrusted-models for more details). In a future release, the default value for `weights_only` will be flipped to `True`. This limits the functions that could be executed during unpickling. Arbitrary objects will no longer be allowed to be loaded via this mode unless they are explicitly allowlisted by the user via `torch.serialization.add_safe_globals`. We recommend you start setting `weights_only=True` for any use case where you don't have full control of the loaded file. Please open an issue on GitHub for any issues related to this experimental feature.\n",
      "  ckpt = torch.load(path, map_location='cpu')['state_dict']\n"
     ]
    },
    {
     "name": "stdout",
     "output_type": "stream",
     "text": [
      "D:\\pyproject\\mindall-e\\checkpoints\\stage2_last.ckpt succesfully restored..\n"
     ]
    }
   ],
   "execution_count": 1
  },
  {
   "cell_type": "code",
   "execution_count": 2,
   "id": "619add15-073e-40f4-9a97-06b89d647c81",
   "metadata": {
    "ExecuteTime": {
     "end_time": "2025-01-08T03:05:02.793636Z",
     "start_time": "2025-01-08T03:05:02.763124Z"
    }
   },
   "outputs": [
    {
     "data": {
      "text/plain": "IntSlider(value=0, description='RND SEED: ', max=1024)",
      "application/vnd.jupyter.widget-view+json": {
       "version_major": 2,
       "version_minor": 0,
       "model_id": "b456bcb393ed457da19d97664eef8799"
      }
     },
     "metadata": {},
     "output_type": "display_data"
    },
    {
     "data": {
      "text/plain": "FloatSlider(value=1.0, description='SOFTMAX TEMPERATURE:', max=5.0, step=0.2)",
      "application/vnd.jupyter.widget-view+json": {
       "version_major": 2,
       "version_minor": 0,
       "model_id": "5caa3fe453fe403eb36cd5799b75165b"
      }
     },
     "metadata": {},
     "output_type": "display_data"
    },
    {
     "data": {
      "text/plain": "IntSlider(value=256, description='TOP-K:', max=512, step=16)",
      "application/vnd.jupyter.widget-view+json": {
       "version_major": 2,
       "version_minor": 0,
       "model_id": "8f34896cbaa349dfa900c6d76dac5579"
      }
     },
     "metadata": {},
     "output_type": "display_data"
    },
    {
     "data": {
      "text/plain": "Text(value='A painting of a monkey with sunglasses in the frame', description='String:', placeholder='Text pro…",
      "application/vnd.jupyter.widget-view+json": {
       "version_major": 2,
       "version_minor": 0,
       "model_id": "16110d29700044d9853c861af53f4830"
      }
     },
     "metadata": {},
     "output_type": "display_data"
    },
    {
     "data": {
      "text/plain": "Button(description='Generate!', style=ButtonStyle())",
      "application/vnd.jupyter.widget-view+json": {
       "version_major": 2,
       "version_minor": 0,
       "model_id": "1c95bdb5b31d4f4b988b9509cf84c229"
      }
     },
     "metadata": {},
     "output_type": "display_data"
    },
    {
     "data": {
      "text/plain": "Output()",
      "application/vnd.jupyter.widget-view+json": {
       "version_major": 2,
       "version_minor": 0,
       "model_id": "af8959e8ed994e2c9ec42dd297d05f20"
      }
     },
     "metadata": {},
     "output_type": "display_data"
    },
    {
     "data": {
      "text/plain": "Output()",
      "application/vnd.jupyter.widget-view+json": {
       "version_major": 2,
       "version_minor": 0,
       "model_id": "1aa60b7eb44d4e009e737d3fc68faecf"
      }
     },
     "metadata": {},
     "output_type": "display_data"
    }
   ],
   "source": [
    "import ipywidgets as widgets\n",
    "from IPython.display import display\n",
    "from IPython.display import clear_output\n",
    "\n",
    "output = widgets.Output()\n",
    "plot_output = widgets.Output()\n",
    "\n",
    "def btn_eventhandler(obj):\n",
    "    output.clear_output()\n",
    "    plot_output.clear_output()\n",
    "    \n",
    "    with output:\n",
    "        print(f'SEED: {slider_seed.value}')\n",
    "        print(f'Softmax Temperature: {slider_temp.value}')\n",
    "        print(f'Top-K: {slider_topk.value}')\n",
    "        print(f'Text prompt: {wd_text.value}')\n",
    "        \n",
    "    with plot_output:\n",
    "        sampling(prompt=wd_text.value, top_k=slider_topk.value, softmax_temperature=slider_temp.value, seed=slider_seed.value)\n",
    "    \n",
    "slider_seed = widgets.IntSlider(\n",
    "    min=0,\n",
    "    max=1024,\n",
    "    step=1,\n",
    "    description='RND SEED: ',\n",
    "    value=0\n",
    ")\n",
    "slider_topk = widgets.IntSlider(\n",
    "    min=0,\n",
    "    max=512,\n",
    "    step=16,\n",
    "    description='TOP-K:',\n",
    "    value=256\n",
    ")\n",
    "slider_temp = widgets.FloatSlider(\n",
    "    min=0.0,\n",
    "    max=5.0,\n",
    "    step=0.2,\n",
    "    description='SOFTMAX TEMPERATURE:',\n",
    "    value=1.0\n",
    ")\n",
    "wd_text = widgets.Text(\n",
    "    value='A painting of a monkey with sunglasses in the frame',\n",
    "    placeholder='Text prompt',\n",
    "    description='String:',\n",
    "    disabled=False\n",
    ")\n",
    "\n",
    "display(slider_seed)\n",
    "display(slider_temp)\n",
    "display(slider_topk)\n",
    "display(wd_text)\n",
    "\n",
    "btn = widgets.Button(description='Generate!')\n",
    "display(btn)\n",
    "btn.on_click(btn_eventhandler)\n",
    "\n",
    "display(output)\n",
    "display(plot_output)"
   ]
  },
  {
   "cell_type": "code",
   "execution_count": null,
   "id": "20571236-3b9a-426e-ab29-96b643c8cbe1",
   "metadata": {},
   "outputs": [],
   "source": []
  }
 ],
 "metadata": {
  "kernelspec": {
   "display_name": "Python 3 (ipykernel)",
   "language": "python",
   "name": "python3"
  },
  "language_info": {
   "codemirror_mode": {
    "name": "ipython",
    "version": 3
   },
   "file_extension": ".py",
   "mimetype": "text/x-python",
   "name": "python",
   "nbconvert_exporter": "python",
   "pygments_lexer": "ipython3",
   "version": "3.7.7"
  }
 },
 "nbformat": 4,
 "nbformat_minor": 5
}
